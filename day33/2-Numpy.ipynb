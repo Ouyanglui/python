{
 "cells": [
  {
   "cell_type": "code",
   "execution_count": 1,
   "metadata": {
    "collapsed": true
   },
   "outputs": [],
   "source": [
    "import numpy as np\n",
    "import time\n",
    "import random\n"
   ]
  },
  {
   "cell_type": "code",
   "execution_count": 8,
   "outputs": [
    {
     "name": "stdout",
     "output_type": "stream",
     "text": [
      "0.45282554626464844 0.05332493782043457\n"
     ]
    }
   ],
   "source": [
    "# 根据数组运算计算效率\n",
    "# 1.python代码实现sum时间\n",
    "lst = []\n",
    "for i in range(100000000):\n",
    "    lst.append(random.random())\n",
    "t1 = time.time()\n",
    "sum1 = sum(lst)\n",
    "t2 = time.time()\n",
    "\n",
    "lst1 = np.array(lst)\n",
    "t3 = time.time()\n",
    "sum2 = np.sum(lst1)\n",
    "t4= time.time()\n",
    "print(t2-t1,t4-t3)\n"
   ],
   "metadata": {
    "collapsed": false,
    "pycharm": {
     "name": "#%%\n"
    }
   }
  },
  {
   "cell_type": "code",
   "execution_count": 10,
   "outputs": [
    {
     "name": "stdout",
     "output_type": "stream",
     "text": [
      "<class 'numpy.ndarray'>\n",
      "[1 2 3]\n",
      "<class 'numpy.ndarray'>\n",
      "[0 1 2 3 4 5 6 7 8 9]\n",
      "<class 'numpy.ndarray'>\n",
      "[ 0  4  8 12 16]\n"
     ]
    }
   ],
   "source": [
    "# np 创建一维数组\n",
    "t1 = np.array([1, 2, 3]) # 直接传入数组\n",
    "print(type(t1))\n",
    "print(t1)\n",
    "\n",
    "t2 = np.array(range(10)) # 随机生成数组\n",
    "print(type(t2))\n",
    "print(t2)\n",
    "\n",
    "t3 = np.arange(0,20,4)  # 使用np自带的arrange生成数组\n",
    "print(type(t3))\n",
    "print(t3)\n"
   ],
   "metadata": {
    "collapsed": false,
    "pycharm": {
     "name": "#%%\n"
    }
   }
  },
  {
   "cell_type": "code",
   "execution_count": 16,
   "outputs": [
    {
     "name": "stdout",
     "output_type": "stream",
     "text": [
      "<class 'numpy.ndarray'>\n",
      "2\n",
      "(3, 2)\n",
      "6\n"
     ]
    }
   ],
   "source": [
    "# 二维数组\n",
    "list1=[[1,3],[5,7],[9,11]]\n",
    "twoArray = np.array(list1) # 创建二维数据\n",
    "print(type(twoArray))\n",
    "# 获取数组维度\n",
    "print(twoArray.ndim)\n",
    "# 获取数组形状；shape(行，列）\n",
    "print(twoArray.shape)\n",
    "# 获取元素个数\n",
    "print(twoArray.size)\n",
    "\n",
    "\n"
   ],
   "metadata": {
    "collapsed": false,
    "pycharm": {
     "name": "#%%\n"
    }
   }
  },
  {
   "cell_type": "code",
   "execution_count": 33,
   "outputs": [
    {
     "name": "stdout",
     "output_type": "stream",
     "text": [
      "[[ 1  3]\n",
      " [ 5  7]\n",
      " [ 9 11]]\n",
      "[ 1  5  9  3  7 11]\n",
      "[ 1  3  5  7  9 11]\n",
      "[ 1  5  9  3  7 11]\n",
      "[0 1 2 3 4 5]\n",
      "(6,)\n",
      "[[0 1]\n",
      " [2 3]\n",
      " [4 5]]\n"
     ]
    }
   ],
   "source": [
    "# 数组的形状调整\n",
    "s1 = np.array([[1,3,5],[7,9,11]])\n",
    "s1 = s1.reshape(3,2)\n",
    "print(s1)\n",
    "# 变为一维数组\n",
    "s2 = s1.reshape((6,), order = 'F') # 以列展开成一维数组\n",
    "s3 = s1.reshape((6,), order = 'C') # C以行展开数组\n",
    "s4 = s1.flatten(order='F')  # flatten返回一维数组\n",
    "print(s2)\n",
    "print(s3)\n",
    "print(s4)\n",
    "# 数组的形状\n",
    "t = np.arange(6)\n",
    "print(t)  # [0 1 2 3 4]\n",
    "print(t.shape)  # (5,)\n",
    "# 变成二维数组\n",
    "t1 = t.reshape(3,2)\n",
    "print(t1)"
   ],
   "metadata": {
    "collapsed": false,
    "pycharm": {
     "name": "#%%\n"
    }
   }
  },
  {
   "cell_type": "code",
   "execution_count": 34,
   "outputs": [
    {
     "name": "stdout",
     "output_type": "stream",
     "text": [
      "<class 'list'>\n",
      "[0, 1, 2, 3, 4, 5, 6, 7, 8, 9]\n"
     ]
    }
   ],
   "source": [
    "# np.array 与python list的互相转换\n",
    "t = np.arange(10)\n",
    "lst = t.tolist()\n",
    "print(type(lst))\n",
    "print(lst)\n"
   ],
   "metadata": {
    "collapsed": false,
    "pycharm": {
     "name": "#%%\n"
    }
   }
  }
 ],
 "metadata": {
  "kernelspec": {
   "display_name": "Python 3",
   "language": "python",
   "name": "python3"
  },
  "language_info": {
   "codemirror_mode": {
    "name": "ipython",
    "version": 2
   },
   "file_extension": ".py",
   "mimetype": "text/x-python",
   "name": "python",
   "nbconvert_exporter": "python",
   "pygments_lexer": "ipython2",
   "version": "2.7.6"
  }
 },
 "nbformat": 4,
 "nbformat_minor": 0
}