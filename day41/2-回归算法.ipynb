{
 "cells": [
  {
   "cell_type": "code",
   "execution_count": 1,
   "metadata": {
    "collapsed": true
   },
   "outputs": [],
   "source": [
    "from sklearn.datasets import load_boston\n",
    "from sklearn.linear_model import LinearRegression, SGDRegressor, Ridge, LogisticRegression, Lasso\n",
    "from sklearn.model_selection import train_test_split\n",
    "from sklearn.preprocessing import StandardScaler\n",
    "from sklearn.metrics import mean_squared_error, classification_report, roc_auc_score\n",
    "import joblib\n",
    "import pandas as pd\n",
    "import numpy as np"
   ]
  },
  {
   "cell_type": "markdown",
   "source": [
    "线性回归实战--预测房价"
   ],
   "metadata": {
    "collapsed": false,
    "pycharm": {
     "name": "#%% md\n"
    }
   }
  },
  {
   "cell_type": "code",
   "execution_count": 2,
   "outputs": [
    {
     "name": "stderr",
     "output_type": "stream",
     "text": [
      "C:\\Users\\life\\AppData\\Local\\Programs\\Python\\Python39\\lib\\site-packages\\sklearn\\utils\\deprecation.py:87: FutureWarning: Function load_boston is deprecated; `load_boston` is deprecated in 1.0 and will be removed in 1.2.\n",
      "\n",
      "    The Boston housing prices dataset has an ethical problem. You can refer to\n",
      "    the documentation of this function for further details.\n",
      "\n",
      "    The scikit-learn maintainers therefore strongly discourage the use of this\n",
      "    dataset unless the purpose of the code is to study and educate about\n",
      "    ethical issues in data science and machine learning.\n",
      "\n",
      "    In this special case, you can fetch the dataset from the original\n",
      "    source::\n",
      "\n",
      "        import pandas as pd\n",
      "        import numpy as np\n",
      "\n",
      "        data_url = \"http://lib.stat.cmu.edu/datasets/boston\"\n",
      "        raw_df = pd.read_csv(data_url, sep=\"\\s+\", skiprows=22, header=None)\n",
      "        data = np.hstack([raw_df.values[::2, :], raw_df.values[1::2, :2]])\n",
      "        target = raw_df.values[1::2, 2]\n",
      "\n",
      "    Alternative datasets include the California housing dataset (i.e.\n",
      "    :func:`~sklearn.datasets.fetch_california_housing`) and the Ames housing\n",
      "    dataset. You can load the datasets as follows::\n",
      "\n",
      "        from sklearn.datasets import fetch_california_housing\n",
      "        housing = fetch_california_housing()\n",
      "\n",
      "    for the California housing dataset and::\n",
      "\n",
      "        from sklearn.datasets import fetch_openml\n",
      "        housing = fetch_openml(name=\"house_prices\", as_frame=True)\n",
      "\n",
      "    for the Ames housing dataset.\n",
      "  warnings.warn(msg, category=FutureWarning)\n"
     ]
    }
   ],
   "source": [
    "# 加载数据集\n",
    "hp = load_boston()"
   ],
   "metadata": {
    "collapsed": false,
    "pycharm": {
     "name": "#%%\n"
    }
   }
  },
  {
   "cell_type": "code",
   "execution_count": 3,
   "outputs": [
    {
     "name": "stdout",
     "output_type": "stream",
     "text": [
      "获取特征值: [[6.3200e-03 1.8000e+01 2.3100e+00 ... 1.5300e+01 3.9690e+02 4.9800e+00]\n",
      " [2.7310e-02 0.0000e+00 7.0700e+00 ... 1.7800e+01 3.9690e+02 9.1400e+00]\n",
      " [2.7290e-02 0.0000e+00 7.0700e+00 ... 1.7800e+01 3.9283e+02 4.0300e+00]\n",
      " ...\n",
      " [6.0760e-02 0.0000e+00 1.1930e+01 ... 2.1000e+01 3.9690e+02 5.6400e+00]\n",
      " [1.0959e-01 0.0000e+00 1.1930e+01 ... 2.1000e+01 3.9345e+02 6.4800e+00]\n",
      " [4.7410e-02 0.0000e+00 1.1930e+01 ... 2.1000e+01 3.9690e+02 7.8800e+00]]\n",
      "获取目标值: [24.  21.6 34.7 33.4 36.2 28.7 22.9 27.1 16.5 18.9 15.  18.9 21.7 20.4\n",
      " 18.2 19.9 23.1 17.5 20.2 18.2 13.6 19.6 15.2 14.5 15.6 13.9 16.6 14.8\n",
      " 18.4 21.  12.7 14.5 13.2 13.1 13.5 18.9 20.  21.  24.7 30.8 34.9 26.6\n",
      " 25.3 24.7 21.2 19.3 20.  16.6 14.4 19.4 19.7 20.5 25.  23.4 18.9 35.4\n",
      " 24.7 31.6 23.3 19.6 18.7 16.  22.2 25.  33.  23.5 19.4 22.  17.4 20.9\n",
      " 24.2 21.7 22.8 23.4 24.1 21.4 20.  20.8 21.2 20.3 28.  23.9 24.8 22.9\n",
      " 23.9 26.6 22.5 22.2 23.6 28.7 22.6 22.  22.9 25.  20.6 28.4 21.4 38.7\n",
      " 43.8 33.2 27.5 26.5 18.6 19.3 20.1 19.5 19.5 20.4 19.8 19.4 21.7 22.8\n",
      " 18.8 18.7 18.5 18.3 21.2 19.2 20.4 19.3 22.  20.3 20.5 17.3 18.8 21.4\n",
      " 15.7 16.2 18.  14.3 19.2 19.6 23.  18.4 15.6 18.1 17.4 17.1 13.3 17.8\n",
      " 14.  14.4 13.4 15.6 11.8 13.8 15.6 14.6 17.8 15.4 21.5 19.6 15.3 19.4\n",
      " 17.  15.6 13.1 41.3 24.3 23.3 27.  50.  50.  50.  22.7 25.  50.  23.8\n",
      " 23.8 22.3 17.4 19.1 23.1 23.6 22.6 29.4 23.2 24.6 29.9 37.2 39.8 36.2\n",
      " 37.9 32.5 26.4 29.6 50.  32.  29.8 34.9 37.  30.5 36.4 31.1 29.1 50.\n",
      " 33.3 30.3 34.6 34.9 32.9 24.1 42.3 48.5 50.  22.6 24.4 22.5 24.4 20.\n",
      " 21.7 19.3 22.4 28.1 23.7 25.  23.3 28.7 21.5 23.  26.7 21.7 27.5 30.1\n",
      " 44.8 50.  37.6 31.6 46.7 31.5 24.3 31.7 41.7 48.3 29.  24.  25.1 31.5\n",
      " 23.7 23.3 22.  20.1 22.2 23.7 17.6 18.5 24.3 20.5 24.5 26.2 24.4 24.8\n",
      " 29.6 42.8 21.9 20.9 44.  50.  36.  30.1 33.8 43.1 48.8 31.  36.5 22.8\n",
      " 30.7 50.  43.5 20.7 21.1 25.2 24.4 35.2 32.4 32.  33.2 33.1 29.1 35.1\n",
      " 45.4 35.4 46.  50.  32.2 22.  20.1 23.2 22.3 24.8 28.5 37.3 27.9 23.9\n",
      " 21.7 28.6 27.1 20.3 22.5 29.  24.8 22.  26.4 33.1 36.1 28.4 33.4 28.2\n",
      " 22.8 20.3 16.1 22.1 19.4 21.6 23.8 16.2 17.8 19.8 23.1 21.  23.8 23.1\n",
      " 20.4 18.5 25.  24.6 23.  22.2 19.3 22.6 19.8 17.1 19.4 22.2 20.7 21.1\n",
      " 19.5 18.5 20.6 19.  18.7 32.7 16.5 23.9 31.2 17.5 17.2 23.1 24.5 26.6\n",
      " 22.9 24.1 18.6 30.1 18.2 20.6 17.8 21.7 22.7 22.6 25.  19.9 20.8 16.8\n",
      " 21.9 27.5 21.9 23.1 50.  50.  50.  50.  50.  13.8 13.8 15.  13.9 13.3\n",
      " 13.1 10.2 10.4 10.9 11.3 12.3  8.8  7.2 10.5  7.4 10.2 11.5 15.1 23.2\n",
      "  9.7 13.8 12.7 13.1 12.5  8.5  5.   6.3  5.6  7.2 12.1  8.3  8.5  5.\n",
      " 11.9 27.9 17.2 27.5 15.  17.2 17.9 16.3  7.   7.2  7.5 10.4  8.8  8.4\n",
      " 16.7 14.2 20.8 13.4 11.7  8.3 10.2 10.9 11.   9.5 14.5 14.1 16.1 14.3\n",
      " 11.7 13.4  9.6  8.7  8.4 12.8 10.5 17.1 18.4 15.4 10.8 11.8 14.9 12.6\n",
      " 14.1 13.  13.4 15.2 16.1 17.8 14.9 14.1 12.7 13.5 14.9 20.  16.4 17.7\n",
      " 19.5 20.2 21.4 19.9 19.  19.1 19.1 20.1 19.9 19.6 23.2 29.8 13.8 13.3\n",
      " 16.7 12.  14.6 21.4 23.  23.7 25.  21.8 20.6 21.2 19.1 20.6 15.2  7.\n",
      "  8.1 13.6 20.1 21.8 24.5 23.1 19.7 18.3 21.2 17.5 16.8 22.4 20.6 23.9\n",
      " 22.  11.9]\n"
     ]
    }
   ],
   "source": [
    "print('获取特征值:', hp.data)\n",
    "print('获取目标值:', hp.target)"
   ],
   "metadata": {
    "collapsed": false,
    "pycharm": {
     "name": "#%%\n"
    }
   }
  },
  {
   "cell_type": "code",
   "execution_count": 4,
   "outputs": [
    {
     "name": "stdout",
     "output_type": "stream",
     "text": [
      "获取特征名: ['CRIM' 'ZN' 'INDUS' 'CHAS' 'NOX' 'RM' 'AGE' 'DIS' 'RAD' 'TAX' 'PTRATIO'\n",
      " 'B' 'LSTAT']\n"
     ]
    }
   ],
   "source": [
    "print('获取特征名:', hp.feature_names)"
   ],
   "metadata": {
    "collapsed": false,
    "pycharm": {
     "name": "#%%\n"
    }
   }
  },
  {
   "cell_type": "code",
   "execution_count": 5,
   "outputs": [
    {
     "name": "stdout",
     "output_type": "stream",
     "text": [
      ".. _boston_dataset:\n",
      "\n",
      "Boston house prices dataset\n",
      "---------------------------\n",
      "\n",
      "**Data Set Characteristics:**  \n",
      "\n",
      "    :Number of Instances: 506 \n",
      "\n",
      "    :Number of Attributes: 13 numeric/categorical predictive. Median Value (attribute 14) is usually the target.\n",
      "\n",
      "    :Attribute Information (in order):\n",
      "        - CRIM     per capita crime rate by town\n",
      "        - ZN       proportion of residential land zoned for lots over 25,000 sq.ft.\n",
      "        - INDUS    proportion of non-retail business acres per town\n",
      "        - CHAS     Charles River dummy variable (= 1 if tract bounds river; 0 otherwise)\n",
      "        - NOX      nitric oxides concentration (parts per 10 million)\n",
      "        - RM       average number of rooms per dwelling\n",
      "        - AGE      proportion of owner-occupied units built prior to 1940\n",
      "        - DIS      weighted distances to five Boston employment centres\n",
      "        - RAD      index of accessibility to radial highways\n",
      "        - TAX      full-value property-tax rate per $10,000\n",
      "        - PTRATIO  pupil-teacher ratio by town\n",
      "        - B        1000(Bk - 0.63)^2 where Bk is the proportion of black people by town\n",
      "        - LSTAT    % lower status of the population\n",
      "        - MEDV     Median value of owner-occupied homes in $1000's\n",
      "\n",
      "    :Missing Attribute Values: None\n",
      "\n",
      "    :Creator: Harrison, D. and Rubinfeld, D.L.\n",
      "\n",
      "This is a copy of UCI ML housing dataset.\n",
      "https://archive.ics.uci.edu/ml/machine-learning-databases/housing/\n",
      "\n",
      "\n",
      "This dataset was taken from the StatLib library which is maintained at Carnegie Mellon University.\n",
      "\n",
      "The Boston house-price data of Harrison, D. and Rubinfeld, D.L. 'Hedonic\n",
      "prices and the demand for clean air', J. Environ. Economics & Management,\n",
      "vol.5, 81-102, 1978.   Used in Belsley, Kuh & Welsch, 'Regression diagnostics\n",
      "...', Wiley, 1980.   N.B. Various transformations are used in the table on\n",
      "pages 244-261 of the latter.\n",
      "\n",
      "The Boston house-price data has been used in many machine learning papers that address regression\n",
      "problems.   \n",
      "     \n",
      ".. topic:: References\n",
      "\n",
      "   - Belsley, Kuh & Welsch, 'Regression diagnostics: Identifying Influential Data and Sources of Collinearity', Wiley, 1980. 244-261.\n",
      "   - Quinlan,R. (1993). Combining Instance-Based and Model-Based Learning. In Proceedings on the Tenth International Conference of Machine Learning, 236-243, University of Massachusetts, Amherst. Morgan Kaufmann.\n",
      "\n"
     ]
    }
   ],
   "source": [
    "print(hp.DESCR)"
   ],
   "metadata": {
    "collapsed": false,
    "pycharm": {
     "name": "#%%\n"
    }
   }
  },
  {
   "cell_type": "code",
   "execution_count": 6,
   "outputs": [
    {
     "name": "stdout",
     "output_type": "stream",
     "text": [
      "[[6.29760e-01 0.00000e+00 8.14000e+00 ... 2.10000e+01 3.96900e+02\n",
      "  8.26000e+00]\n",
      " [1.71710e-01 2.50000e+01 5.13000e+00 ... 1.97000e+01 3.78080e+02\n",
      "  1.44400e+01]\n",
      " [9.82349e+00 0.00000e+00 1.81000e+01 ... 2.02000e+01 3.96900e+02\n",
      "  2.12400e+01]\n",
      " ...\n",
      " [5.87205e+00 0.00000e+00 1.81000e+01 ... 2.02000e+01 3.96900e+02\n",
      "  1.93700e+01]\n",
      " [3.30450e-01 0.00000e+00 6.20000e+00 ... 1.74000e+01 3.76750e+02\n",
      "  1.08800e+01]\n",
      " [8.01400e-02 0.00000e+00 5.96000e+00 ... 1.92000e+01 3.96900e+02\n",
      "  8.77000e+00]]\n"
     ]
    }
   ],
   "source": [
    "# 分割数据集\n",
    "x_train, x_test, y_train, y_test = train_test_split(hp.data, hp.target, test_size=0.3, random_state=1)\n",
    "print(x_train)"
   ],
   "metadata": {
    "collapsed": false,
    "pycharm": {
     "name": "#%%\n"
    }
   }
  },
  {
   "cell_type": "code",
   "execution_count": 7,
   "outputs": [],
   "source": [
    "# 特征值不在同一个量纲内，所以标准化处理\n",
    "std = StandardScaler()\n",
    "x_train = std.fit_transform(x_train)\n",
    "x_test = std.transform(x_test)"
   ],
   "metadata": {
    "collapsed": false,
    "pycharm": {
     "name": "#%%\n"
    }
   }
  },
  {
   "cell_type": "code",
   "execution_count": 8,
   "outputs": [
    {
     "name": "stdout",
     "output_type": "stream",
     "text": [
      "(354, 1)\n",
      "(152, 1)\n"
     ]
    }
   ],
   "source": [
    "# 分类不存在目标值标准化，回归会对目标值进行了标准化\n",
    "std_y = StandardScaler()\n",
    "#变维reshape()：-1代表把剩余的元素都堆到哪一维\n",
    "temp = y_train.reshape(-1, 1)\n",
    "# 标签只有一个一个房价，是一维的\n",
    "y_train = std_y.fit_transform(y_train.reshape(-1, 1))  # 目标值是一维的，这里需要传进去2维的\n",
    "print(y_train.shape)\n",
    "y_test = std_y.transform(y_test.reshape(-1, 1))\n",
    "print(y_test.shape)"
   ],
   "metadata": {
    "collapsed": false,
    "pycharm": {
     "name": "#%%\n"
    }
   }
  },
  {
   "cell_type": "markdown",
   "source": [
    "预测"
   ],
   "metadata": {
    "collapsed": false,
    "pycharm": {
     "name": "#%% md\n"
    }
   }
  },
  {
   "cell_type": "code",
   "execution_count": 9,
   "outputs": [
    {
     "name": "stdout",
     "output_type": "stream",
     "text": [
      "回归系数: [[-0.09309616  0.15852628  0.04498381  0.07540369 -0.28082703  0.21461817\n",
      "   0.01119884 -0.35915378  0.30000376 -0.21278503 -0.23925274  0.06462201\n",
      "  -0.45883502]]\n"
     ]
    },
    {
     "data": {
      "text/plain": "array([[32.3914647 ],\n       [27.94401279],\n       [17.83762764],\n       [21.66941388],\n       [18.93639614],\n       [20.01995795],\n       [32.63414961],\n       [17.86179976],\n       [24.73211676],\n       [26.77346826],\n       [27.26138023],\n       [28.63243014],\n       [21.16103038],\n       [27.15098589],\n       [23.33198614],\n       [21.02894005],\n       [17.11819755],\n       [37.52455938],\n       [30.69864427],\n       [ 8.46104486],\n       [20.83966032],\n       [16.26732451],\n       [25.05030307],\n       [24.8069032 ],\n       [31.6789299 ],\n       [10.98989363],\n       [13.54111562],\n       [16.54697099],\n       [35.86699683],\n       [14.69589266],\n       [21.05655107],\n       [13.90301353],\n       [43.01321262],\n       [17.80335305],\n       [21.68817023],\n       [20.45077825],\n       [17.38095983],\n       [26.81334904],\n       [10.08706217],\n       [19.96174586],\n       [24.1983249 ],\n       [21.00202622],\n       [29.38682967],\n       [16.33215467],\n       [19.37439646],\n       [14.45525235],\n       [39.52670798],\n       [18.18535021],\n       [26.38536303],\n       [20.41420863],\n       [25.08511581],\n       [24.40208165],\n       [24.87902769],\n       [26.97887956],\n       [ 4.93921657],\n       [24.0001365 ],\n       [10.66711602],\n       [26.98494775],\n       [16.63507993],\n       [35.31652989],\n       [19.49249915],\n       [27.37577863],\n       [16.53965715],\n       [19.09746715],\n       [11.06765336],\n       [32.03445261],\n       [36.15847648],\n       [21.53547868],\n       [24.96434626],\n       [25.50601154],\n       [23.41203509],\n       [ 7.20513615],\n       [16.8659937 ],\n       [20.06269471],\n       [20.61979368],\n       [21.97238475],\n       [34.25908683],\n       [27.9998298 ],\n       [24.95261644],\n       [34.74201458],\n       [18.63786454],\n       [23.95355085],\n       [34.50655345],\n       [13.15979729],\n       [20.53691051],\n       [30.29844955],\n       [16.932953  ],\n       [24.29285934],\n       [19.11800155],\n       [16.9848188 ],\n       [26.80165303],\n       [40.90027245],\n       [14.43790215],\n       [23.20589688],\n       [15.39439519],\n       [21.77332361],\n       [22.85660249],\n       [29.45718412],\n       [36.54373379],\n       [20.36577747],\n       [18.01790611],\n       [17.41615519],\n       [25.23381893],\n       [21.98069747],\n       [ 8.3160445 ],\n       [21.49942727],\n       [16.565317  ],\n       [33.22680671],\n       [24.39944797],\n       [24.99055027],\n       [38.37532568],\n       [28.82033178],\n       [14.76287071],\n       [34.72063358],\n       [35.40686066],\n       [32.93299015],\n       [20.95996646],\n       [16.74324182],\n       [34.54769634],\n       [38.9463732 ],\n       [21.47971843],\n       [15.54203787],\n       [27.46719043],\n       [18.62729405],\n       [27.3819011 ],\n       [21.13549164],\n       [26.24403323],\n       [22.22010257],\n       [23.34295812],\n       [28.29923408],\n       [20.53788412],\n       [23.94639233],\n       [29.8421088 ],\n       [10.55075792],\n       [27.02280253],\n       [32.41641579],\n       [13.94180705],\n       [13.62057726],\n       [33.00870341],\n       [14.2836798 ],\n       [17.70899424],\n       [16.30194776],\n       [17.14377392],\n       [28.71467061],\n       [34.07548297],\n       [20.31288796],\n       [24.55801246],\n       [17.32995936],\n       [28.3602341 ],\n       [20.79422791],\n       [33.6981572 ],\n       [13.51882716]])"
     },
     "execution_count": 9,
     "metadata": {},
     "output_type": "execute_result"
    }
   ],
   "source": [
    "lr = LinearRegression()\n",
    "# 训练\n",
    "lr.fit(x_train, y_train)\n",
    "print('回归系数:', lr.coef_) # 看特征与目标之间的相关性\n",
    "# 预测\n",
    "y_predict = lr.predict(x_test)\n",
    "# 获取真实房价,逆标准化\n",
    "y_lr_predict = std_y.inverse_transform(y_predict)"
   ],
   "metadata": {
    "collapsed": false,
    "pycharm": {
     "name": "#%%\n"
    }
   }
  },
  {
   "cell_type": "code",
   "execution_count": 10,
   "outputs": [
    {
     "data": {
      "text/plain": "['./test.pkl']"
     },
     "execution_count": 10,
     "metadata": {},
     "output_type": "execute_result"
    }
   ],
   "source": [
    "# 保存训练好的模型，模型中保存的是w的值，也保存了模型结构\n",
    "joblib.dump(lr, './test.pkl')\n",
    "#加载模型\n",
    "# model = joblib_load('./test.pkl')"
   ],
   "metadata": {
    "collapsed": false,
    "pycharm": {
     "name": "#%%\n"
    }
   }
  },
  {
   "cell_type": "code",
   "execution_count": 12,
   "outputs": [
    {
     "name": "stdout",
     "output_type": "stream",
     "text": [
      "使用正规方程预测的房价: [[32.3914647 ]\n",
      " [27.94401279]\n",
      " [17.83762764]\n",
      " [21.66941388]\n",
      " [18.93639614]\n",
      " [20.01995795]\n",
      " [32.63414961]\n",
      " [17.86179976]\n",
      " [24.73211676]\n",
      " [26.77346826]\n",
      " [27.26138023]\n",
      " [28.63243014]\n",
      " [21.16103038]\n",
      " [27.15098589]\n",
      " [23.33198614]\n",
      " [21.02894005]\n",
      " [17.11819755]\n",
      " [37.52455938]\n",
      " [30.69864427]\n",
      " [ 8.46104486]\n",
      " [20.83966032]\n",
      " [16.26732451]\n",
      " [25.05030307]\n",
      " [24.8069032 ]\n",
      " [31.6789299 ]\n",
      " [10.98989363]\n",
      " [13.54111562]\n",
      " [16.54697099]\n",
      " [35.86699683]\n",
      " [14.69589266]\n",
      " [21.05655107]\n",
      " [13.90301353]\n",
      " [43.01321262]\n",
      " [17.80335305]\n",
      " [21.68817023]\n",
      " [20.45077825]\n",
      " [17.38095983]\n",
      " [26.81334904]\n",
      " [10.08706217]\n",
      " [19.96174586]\n",
      " [24.1983249 ]\n",
      " [21.00202622]\n",
      " [29.38682967]\n",
      " [16.33215467]\n",
      " [19.37439646]\n",
      " [14.45525235]\n",
      " [39.52670798]\n",
      " [18.18535021]\n",
      " [26.38536303]\n",
      " [20.41420863]\n",
      " [25.08511581]\n",
      " [24.40208165]\n",
      " [24.87902769]\n",
      " [26.97887956]\n",
      " [ 4.93921657]\n",
      " [24.0001365 ]\n",
      " [10.66711602]\n",
      " [26.98494775]\n",
      " [16.63507993]\n",
      " [35.31652989]\n",
      " [19.49249915]\n",
      " [27.37577863]\n",
      " [16.53965715]\n",
      " [19.09746715]\n",
      " [11.06765336]\n",
      " [32.03445261]\n",
      " [36.15847648]\n",
      " [21.53547868]\n",
      " [24.96434626]\n",
      " [25.50601154]\n",
      " [23.41203509]\n",
      " [ 7.20513615]\n",
      " [16.8659937 ]\n",
      " [20.06269471]\n",
      " [20.61979368]\n",
      " [21.97238475]\n",
      " [34.25908683]\n",
      " [27.9998298 ]\n",
      " [24.95261644]\n",
      " [34.74201458]\n",
      " [18.63786454]\n",
      " [23.95355085]\n",
      " [34.50655345]\n",
      " [13.15979729]\n",
      " [20.53691051]\n",
      " [30.29844955]\n",
      " [16.932953  ]\n",
      " [24.29285934]\n",
      " [19.11800155]\n",
      " [16.9848188 ]\n",
      " [26.80165303]\n",
      " [40.90027245]\n",
      " [14.43790215]\n",
      " [23.20589688]\n",
      " [15.39439519]\n",
      " [21.77332361]\n",
      " [22.85660249]\n",
      " [29.45718412]\n",
      " [36.54373379]\n",
      " [20.36577747]\n",
      " [18.01790611]\n",
      " [17.41615519]\n",
      " [25.23381893]\n",
      " [21.98069747]\n",
      " [ 8.3160445 ]\n",
      " [21.49942727]\n",
      " [16.565317  ]\n",
      " [33.22680671]\n",
      " [24.39944797]\n",
      " [24.99055027]\n",
      " [38.37532568]\n",
      " [28.82033178]\n",
      " [14.76287071]\n",
      " [34.72063358]\n",
      " [35.40686066]\n",
      " [32.93299015]\n",
      " [20.95996646]\n",
      " [16.74324182]\n",
      " [34.54769634]\n",
      " [38.9463732 ]\n",
      " [21.47971843]\n",
      " [15.54203787]\n",
      " [27.46719043]\n",
      " [18.62729405]\n",
      " [27.3819011 ]\n",
      " [21.13549164]\n",
      " [26.24403323]\n",
      " [22.22010257]\n",
      " [23.34295812]\n",
      " [28.29923408]\n",
      " [20.53788412]\n",
      " [23.94639233]\n",
      " [29.8421088 ]\n",
      " [10.55075792]\n",
      " [27.02280253]\n",
      " [32.41641579]\n",
      " [13.94180705]\n",
      " [13.62057726]\n",
      " [33.00870341]\n",
      " [14.2836798 ]\n",
      " [17.70899424]\n",
      " [16.30194776]\n",
      " [17.14377392]\n",
      " [28.71467061]\n",
      " [34.07548297]\n",
      " [20.31288796]\n",
      " [24.55801246]\n",
      " [17.32995936]\n",
      " [28.3602341 ]\n",
      " [20.79422791]\n",
      " [33.6981572 ]\n",
      " [13.51882716]]\n",
      "均方误差: 0.24426102332847274\n"
     ]
    },
    {
     "data": {
      "text/plain": "array([[ 1.11554709],\n       [ 0.62196148],\n       [-0.49966197],\n       [-0.07440395],\n       [-0.37771881],\n       [-0.25746332],\n       [ 1.14248067],\n       [-0.49697931],\n       [ 0.26549991],\n       [ 0.4920525 ],\n       [ 0.54620178],\n       [ 0.69836318],\n       [-0.1308252 ],\n       [ 0.53395003],\n       [ 0.11011108],\n       [-0.14548481],\n       [-0.57950552],\n       [ 1.68522649],\n       [ 0.92767507],\n       [-1.54029073],\n       [-0.16649138],\n       [-0.67393682],\n       [ 0.30081276],\n       [ 0.27379983],\n       [ 1.0364688 ],\n       [-1.25963489],\n       [-0.97649602],\n       [-0.64290119],\n       [ 1.50126744],\n       [-0.84833695],\n       [-0.14242049],\n       [-0.93633199],\n       [ 2.29436636],\n       [-0.50346582],\n       [-0.07232234],\n       [-0.20965016],\n       [-0.55034372],\n       [ 0.49647853],\n       [-1.35983263],\n       [-0.26392379],\n       [ 0.2062588 ],\n       [-0.14847175],\n       [ 0.7820877 ],\n       [-0.66674187],\n       [-0.32910881],\n       [-0.87504361],\n       [ 1.90742827],\n       [-0.46107114],\n       [ 0.44897993],\n       [-0.21370872],\n       [ 0.30467633],\n       [ 0.22887206],\n       [ 0.28180433],\n       [ 0.51484939],\n       [-1.9311491 ],\n       [ 0.18426352],\n       [-1.29545729],\n       [ 0.51552284],\n       [-0.63312272],\n       [ 1.4401757 ],\n       [-0.31600157],\n       [ 0.55889791],\n       [-0.64371289],\n       [-0.35984288],\n       [-1.25100498],\n       [ 1.0759253 ],\n       [ 1.53361633],\n       [-0.0892683 ],\n       [ 0.29127313],\n       [ 0.35138804],\n       [ 0.11899505],\n       [-1.67967357],\n       [-0.60749552],\n       [-0.25272032],\n       [-0.19089255],\n       [-0.04077974],\n       [ 1.32281891],\n       [ 0.62815614],\n       [ 0.28997133],\n       [ 1.37641503],\n       [-0.41085035],\n       [ 0.17909337],\n       [ 1.35028317],\n       [-1.01881537],\n       [-0.20009106],\n       [ 0.88326079],\n       [-0.60006427],\n       [ 0.21675039],\n       [-0.35756394],\n       [-0.59430811],\n       [ 0.49518049],\n       [ 2.05986874],\n       [-0.87696916],\n       [ 0.09611749],\n       [-0.77081597],\n       [-0.06287188],\n       [ 0.05735221],\n       [ 0.78989575],\n       [ 1.57637283],\n       [-0.21908369],\n       [-0.47965436],\n       [-0.54643768],\n       [ 0.32117965],\n       [-0.03985718],\n       [-1.55638312],\n       [-0.09326935],\n       [-0.64086512],\n       [ 1.20825474],\n       [ 0.22857977],\n       [ 0.29418129],\n       [ 1.77964595],\n       [ 0.71921682],\n       [-0.84090361],\n       [ 1.37404213],\n       [ 1.45020076],\n       [ 1.17564649],\n       [-0.15313961],\n       [-0.62111873],\n       [ 1.35484927],\n       [ 1.84302175],\n       [-0.09545667],\n       [-0.75443034],\n       [ 0.56904294],\n       [-0.41202348],\n       [ 0.55957739],\n       [-0.13365953],\n       [ 0.43329492],\n       [-0.01328761],\n       [ 0.11132877],\n       [ 0.66138453],\n       [-0.19998301],\n       [ 0.17829891],\n       [ 0.83261533],\n       [-1.3083709 ],\n       [ 0.51972403],\n       [ 1.11831621],\n       [-0.93202662],\n       [-0.96767724],\n       [ 1.18404928],\n       [-0.89408502],\n       [-0.51393792],\n       [-0.67009428],\n       [-0.57666701],\n       [ 0.70749037],\n       [ 1.30244225],\n       [-0.22495346],\n       [ 0.24617753],\n       [-0.55600384],\n       [ 0.66815441],\n       [-0.17153355],\n       [ 1.260566  ],\n       [-0.97896964]])"
     },
     "execution_count": 12,
     "metadata": {},
     "output_type": "execute_result"
    }
   ],
   "source": [
    "# 使用正规方程预测价格\n",
    "print('使用正规方程预测的房价:', y_lr_predict)\n",
    "# 回归只有测试集误差:误差越小越好\n",
    "print('均方误差:', mean_squared_error(y_test,y_predict))"
   ],
   "metadata": {
    "collapsed": false,
    "pycharm": {
     "name": "#%%\n"
    }
   }
  },
  {
   "cell_type": "markdown",
   "source": [
    "梯度下降"
   ],
   "metadata": {
    "collapsed": false,
    "pycharm": {
     "name": "#%% md\n"
    }
   }
  },
  {
   "cell_type": "code",
   "execution_count": 13,
   "outputs": [
    {
     "name": "stderr",
     "output_type": "stream",
     "text": [
      "C:\\Users\\life\\AppData\\Local\\Programs\\Python\\Python39\\lib\\site-packages\\sklearn\\utils\\validation.py:1111: DataConversionWarning: A column-vector y was passed when a 1d array was expected. Please change the shape of y to (n_samples, ), for example using ravel().\n",
      "  y = column_or_1d(y, warn=True)\n"
     ]
    },
    {
     "data": {
      "text/plain": "SGDRegressor()",
      "text/html": "<style>#sk-container-id-1 {color: black;background-color: white;}#sk-container-id-1 pre{padding: 0;}#sk-container-id-1 div.sk-toggleable {background-color: white;}#sk-container-id-1 label.sk-toggleable__label {cursor: pointer;display: block;width: 100%;margin-bottom: 0;padding: 0.3em;box-sizing: border-box;text-align: center;}#sk-container-id-1 label.sk-toggleable__label-arrow:before {content: \"▸\";float: left;margin-right: 0.25em;color: #696969;}#sk-container-id-1 label.sk-toggleable__label-arrow:hover:before {color: black;}#sk-container-id-1 div.sk-estimator:hover label.sk-toggleable__label-arrow:before {color: black;}#sk-container-id-1 div.sk-toggleable__content {max-height: 0;max-width: 0;overflow: hidden;text-align: left;background-color: #f0f8ff;}#sk-container-id-1 div.sk-toggleable__content pre {margin: 0.2em;color: black;border-radius: 0.25em;background-color: #f0f8ff;}#sk-container-id-1 input.sk-toggleable__control:checked~div.sk-toggleable__content {max-height: 200px;max-width: 100%;overflow: auto;}#sk-container-id-1 input.sk-toggleable__control:checked~label.sk-toggleable__label-arrow:before {content: \"▾\";}#sk-container-id-1 div.sk-estimator input.sk-toggleable__control:checked~label.sk-toggleable__label {background-color: #d4ebff;}#sk-container-id-1 div.sk-label input.sk-toggleable__control:checked~label.sk-toggleable__label {background-color: #d4ebff;}#sk-container-id-1 input.sk-hidden--visually {border: 0;clip: rect(1px 1px 1px 1px);clip: rect(1px, 1px, 1px, 1px);height: 1px;margin: -1px;overflow: hidden;padding: 0;position: absolute;width: 1px;}#sk-container-id-1 div.sk-estimator {font-family: monospace;background-color: #f0f8ff;border: 1px dotted black;border-radius: 0.25em;box-sizing: border-box;margin-bottom: 0.5em;}#sk-container-id-1 div.sk-estimator:hover {background-color: #d4ebff;}#sk-container-id-1 div.sk-parallel-item::after {content: \"\";width: 100%;border-bottom: 1px solid gray;flex-grow: 1;}#sk-container-id-1 div.sk-label:hover label.sk-toggleable__label {background-color: #d4ebff;}#sk-container-id-1 div.sk-serial::before {content: \"\";position: absolute;border-left: 1px solid gray;box-sizing: border-box;top: 0;bottom: 0;left: 50%;z-index: 0;}#sk-container-id-1 div.sk-serial {display: flex;flex-direction: column;align-items: center;background-color: white;padding-right: 0.2em;padding-left: 0.2em;position: relative;}#sk-container-id-1 div.sk-item {position: relative;z-index: 1;}#sk-container-id-1 div.sk-parallel {display: flex;align-items: stretch;justify-content: center;background-color: white;position: relative;}#sk-container-id-1 div.sk-item::before, #sk-container-id-1 div.sk-parallel-item::before {content: \"\";position: absolute;border-left: 1px solid gray;box-sizing: border-box;top: 0;bottom: 0;left: 50%;z-index: -1;}#sk-container-id-1 div.sk-parallel-item {display: flex;flex-direction: column;z-index: 1;position: relative;background-color: white;}#sk-container-id-1 div.sk-parallel-item:first-child::after {align-self: flex-end;width: 50%;}#sk-container-id-1 div.sk-parallel-item:last-child::after {align-self: flex-start;width: 50%;}#sk-container-id-1 div.sk-parallel-item:only-child::after {width: 0;}#sk-container-id-1 div.sk-dashed-wrapped {border: 1px dashed gray;margin: 0 0.4em 0.5em 0.4em;box-sizing: border-box;padding-bottom: 0.4em;background-color: white;}#sk-container-id-1 div.sk-label label {font-family: monospace;font-weight: bold;display: inline-block;line-height: 1.2em;}#sk-container-id-1 div.sk-label-container {text-align: center;}#sk-container-id-1 div.sk-container {/* jupyter's `normalize.less` sets `[hidden] { display: none; }` but bootstrap.min.css set `[hidden] { display: none !important; }` so we also need the `!important` here to be able to override the default hidden behavior on the sphinx rendered scikit-learn.org. See: https://github.com/scikit-learn/scikit-learn/issues/21755 */display: inline-block !important;position: relative;}#sk-container-id-1 div.sk-text-repr-fallback {display: none;}</style><div id=\"sk-container-id-1\" class=\"sk-top-container\"><div class=\"sk-text-repr-fallback\"><pre>SGDRegressor()</pre><b>In a Jupyter environment, please rerun this cell to show the HTML representation or trust the notebook. <br />On GitHub, the HTML representation is unable to render, please try loading this page with nbviewer.org.</b></div><div class=\"sk-container\" hidden><div class=\"sk-item\"><div class=\"sk-estimator sk-toggleable\"><input class=\"sk-toggleable__control sk-hidden--visually\" id=\"sk-estimator-id-1\" type=\"checkbox\" checked><label for=\"sk-estimator-id-1\" class=\"sk-toggleable__label sk-toggleable__label-arrow\">SGDRegressor</label><div class=\"sk-toggleable__content\"><pre>SGDRegressor()</pre></div></div></div></div></div>"
     },
     "execution_count": 13,
     "metadata": {},
     "output_type": "execute_result"
    }
   ],
   "source": [
    "sgd = SGDRegressor()\n",
    "sgd.fit(x_train,y_train)"
   ],
   "metadata": {
    "collapsed": false,
    "pycharm": {
     "name": "#%%\n"
    }
   }
  },
  {
   "cell_type": "code",
   "execution_count": 15,
   "outputs": [
    {
     "data": {
      "text/plain": "array([ 0.92806123,  0.6594421 , -0.49447639,  0.0162673 , -0.43767716,\n       -0.21124596,  0.94974451, -0.45683875,  0.18198768,  0.51579874,\n        0.45461026,  0.79213888, -0.08216332,  0.44244309,  0.06826731,\n       -0.28536025, -0.59001062,  1.7037842 ,  0.890271  , -1.42162729,\n       -0.17089576, -0.58356046,  0.31658131,  0.31164545,  0.96736426,\n       -1.31784755, -0.93659333, -0.40148532,  1.49660094, -0.92596016,\n        0.11517186, -0.89259098,  2.11050993, -0.48994416,  0.16764309,\n       -0.14434394, -0.55027192,  0.60784388, -1.52075334, -0.32498474,\n        0.43894686, -0.06616041,  0.70964965, -0.77080013, -0.4108851 ,\n       -0.85084862,  1.94865855, -0.50854582,  0.38872689, -0.2067734 ,\n        0.2711905 ,  0.23197066,  0.34655066,  0.46536586, -1.72767091,\n        0.16417198, -1.31114876,  0.48802037, -0.57283585,  1.47224088,\n       -0.33524594,  0.57184493, -0.71475483, -0.4872227 , -1.24151394,\n        1.02883863,  1.57226098,  0.26962662,  0.25150769,  0.30363342,\n        0.18926718, -1.73705797, -0.73368229, -0.16770125, -0.1798112 ,\n       -0.12681595,  1.2328909 ,  0.68422662,  0.42813088,  1.2061268 ,\n       -0.36804422,  0.21731893,  1.38676975, -0.98619368,  0.03454698,\n        0.89340013, -0.60570446,  0.30258874, -0.30304403, -0.53860851,\n        0.50830416,  2.10567204, -0.65306085,  0.1285097 , -0.76395941,\n       -0.01540379,  0.09404163,  0.61394932,  1.57052943, -0.1525123 ,\n       -0.61616343, -0.52317821,  0.36228083, -0.01894422, -1.59182714,\n       -0.03537496, -0.80814758,  1.15975749,  0.16881427,  0.36467216,\n        1.76696166,  0.6776872 , -0.89144387,  1.21138165,  1.41670453,\n        1.29165841, -0.15184803, -0.5896281 ,  1.2603337 ,  1.86109697,\n        0.11203708, -0.7522071 ,  0.64533725, -0.39684415,  0.52182685,\n       -0.08495625,  0.4160116 , -0.02035528,  0.0341883 ,  0.66615476,\n       -0.20078069,  0.20254898,  0.65923634, -1.37626834,  0.49098416,\n        1.01170327, -0.76906423, -1.01343527,  1.16478073, -0.67451921,\n       -0.39048441, -0.63746789, -0.56852221,  0.69888987,  1.11436447,\n       -0.1467609 ,  0.26934059, -0.66561347,  0.6953981 , -0.41234331,\n        1.25168524, -0.93311985])"
     },
     "execution_count": 15,
     "metadata": {},
     "output_type": "execute_result"
    }
   ],
   "source": [
    "# # 预测\n",
    "y_pre = sgd.predict(x_test)\n",
    "y_pre"
   ],
   "metadata": {
    "collapsed": false,
    "pycharm": {
     "name": "#%%\n"
    }
   }
  },
  {
   "cell_type": "code",
   "execution_count": 17,
   "outputs": [
    {
     "data": {
      "text/plain": "array([-0.06717674,  0.09813954, -0.01640762,  0.0842953 , -0.1913172 ,\n        0.25484279, -0.01456697, -0.27251037,  0.12062218, -0.04735092,\n       -0.22810544,  0.07393504, -0.43408871])"
     },
     "execution_count": 17,
     "metadata": {},
     "output_type": "execute_result"
    }
   ],
   "source": [
    "# 回归系数\n",
    "sgd.coef_"
   ],
   "metadata": {
    "collapsed": false,
    "pycharm": {
     "name": "#%%\n"
    }
   }
  },
  {
   "cell_type": "code",
   "execution_count": 18,
   "outputs": [
    {
     "data": {
      "text/plain": "0.24020736179881222"
     },
     "execution_count": 18,
     "metadata": {},
     "output_type": "execute_result"
    }
   ],
   "source": [
    "# 均方误差\n",
    "mean_squared_error(y_test,y_pre)\n",
    "\n"
   ],
   "metadata": {
    "collapsed": false,
    "pycharm": {
     "name": "#%%\n"
    }
   }
  }
 ],
 "metadata": {
  "kernelspec": {
   "display_name": "Python 3",
   "language": "python",
   "name": "python3"
  },
  "language_info": {
   "codemirror_mode": {
    "name": "ipython",
    "version": 2
   },
   "file_extension": ".py",
   "mimetype": "text/x-python",
   "name": "python",
   "nbconvert_exporter": "python",
   "pygments_lexer": "ipython2",
   "version": "2.7.6"
  }
 },
 "nbformat": 4,
 "nbformat_minor": 0
}