{
 "cells": [
  {
   "cell_type": "code",
   "execution_count": 2,
   "metadata": {
    "collapsed": true
   },
   "outputs": [],
   "source": [
    "from sklearn.feature_extraction import DictVectorizer\n",
    "from sklearn.feature_extraction.text import CountVectorizer, TfidfVectorizer\n",
    "from sklearn.preprocessing import MinMaxScaler, StandardScaler\n",
    "from sklearn.feature_selection import VarianceThreshold\n",
    "from sklearn.decomposition import PCA\n",
    "import jieba\n",
    "import numpy as np\n",
    "from sklearn.impute import SimpleImputer"
   ]
  },
  {
   "cell_type": "markdown",
   "source": [
    "特征预处理PCA"
   ],
   "metadata": {
    "collapsed": false,
    "pycharm": {
     "name": "#%% md\n"
    }
   }
  },
  {
   "cell_type": "code",
   "execution_count": 3,
   "outputs": [
    {
     "name": "stdout",
     "output_type": "stream",
     "text": [
      "[[ 1.42614233  3.84729403 -0.47638925]\n",
      " [ 7.09016001 -1.93393691  0.22807681]\n",
      " [-4.30119225 -1.86011188 -1.26579187]\n",
      " [-4.21511009 -0.05324524  1.51410431]]\n"
     ]
    }
   ],
   "source": [
    "# 降维\n",
    "def pca():\n",
    "    '''\n",
    "    目的：数据维数压缩，降低原数据维数(复杂度)\n",
    "\n",
    "    :return:\n",
    "    '''\n",
    "    # n_components=:1.整数：如果有4个特征，只保留3个特征；2.小数:90~95%保留的成分有90%~95%的代表性\n",
    "    pca = PCA(n_components=3)\n",
    "    data = pca.fit_transform([[2, 8, 4, 5], [6, 3, 0, 8],\n",
    "                              [5, 4, 9, 1],[6, 7, 9, 2]])\n",
    "    print(data)\n",
    "    return None\n",
    "pca()\n",
    "\n"
   ],
   "metadata": {
    "collapsed": false,
    "pycharm": {
     "name": "#%%\n"
    }
   }
  }
 ],
 "metadata": {
  "kernelspec": {
   "display_name": "Python 3",
   "language": "python",
   "name": "python3"
  },
  "language_info": {
   "codemirror_mode": {
    "name": "ipython",
    "version": 2
   },
   "file_extension": ".py",
   "mimetype": "text/x-python",
   "name": "python",
   "nbconvert_exporter": "python",
   "pygments_lexer": "ipython2",
   "version": "2.7.6"
  }
 },
 "nbformat": 4,
 "nbformat_minor": 0
}